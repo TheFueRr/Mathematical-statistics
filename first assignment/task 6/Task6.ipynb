{
 "cells": [
  {
   "cell_type": "code",
   "execution_count": 22,
   "metadata": {},
   "outputs": [],
   "source": [
    "import numpy as np \n",
    "import matplotlib.pyplot as plt "
   ]
  },
  {
   "cell_type": "markdown",
   "metadata": {},
   "source": [
    "### Сгенеруйте выборку объёму n = 100 для некоторого значения парамeтра $\\theta$."
   ]
  },
  {
   "cell_type": "code",
   "execution_count": 41,
   "metadata": {},
   "outputs": [],
   "source": [
    "theta = 3\n",
    "a = 0.05\n",
    "\n",
    "def func1(x, theta):\n",
    "    return (1 - x) ** (1 / (1 - theta))\n",
    "\n",
    "N = 100\n",
    "\n",
    "np.random.seed(42)\n",
    "\n",
    "X = [func1(x, theta) for x in np.random.sample(N)]\n",
    "X.sort()"
   ]
  },
  {
   "cell_type": "markdown",
   "metadata": {},
   "source": [
    "### d) Вычислите указанные выше доверительные интегралы для доверительной веротяности 0.95."
   ]
  },
  {
   "cell_type": "markdown",
   "metadata": {},
   "source": [
    "#### Доверительный интервал для медианы"
   ]
  },
  {
   "cell_type": "code",
   "execution_count": 42,
   "metadata": {},
   "outputs": [
    {
     "name": "stdout",
     "output_type": "stream",
     "text": [
      "Доверительный интервал: (1.287723199859717, 1.4583574933745918), длина: 0.1706342935148748\n"
     ]
    }
   ],
   "source": [
    "theta_estimate = N / np.sum(np.log(X)) + 1\n",
    "\n",
    "lower_border1 = (-(1.96 * np.log(2) * (2 ** (1 / (theta_estimate - 1)))) / (theta_estimate - 1) / 10 + 2 ** (1 / (theta_estimate -1)))\n",
    "upper_border1 = (1.96 * np.log(2) * (2 ** (1 / (theta_estimate - 1)))) / (theta_estimate - 1) / 10 + 2 ** (1 / (theta_estimate -1))\n",
    "\n",
    "print(f\"Доверительный интервал: ({lower_border1}, {upper_border1}), длина: {upper_border1 - lower_border1}\")"
   ]
  },
  {
   "cell_type": "markdown",
   "metadata": {},
   "source": [
    "#### Асимптотический доверительный интервал"
   ]
  },
  {
   "cell_type": "code",
   "execution_count": 43,
   "metadata": {},
   "outputs": [
    {
     "name": "stdout",
     "output_type": "stream",
     "text": [
      "Доверительный интервал: (2.757861106419567, 3.6149277155196544), длина: 0.8570666091000874\n"
     ]
    }
   ],
   "source": [
    "lower_border2 = -1.96 * (theta_estimate - 1) / np.sqrt(N) + theta_estimate\n",
    "upper_border2 = 1.96 * (theta_estimate - 1) / np.sqrt(N) + theta_estimate\n",
    "\n",
    "print(f\"Доверительный интервал: ({lower_border2}, {upper_border2}), длина: {upper_border2 - lower_border2}\")"
   ]
  },
  {
   "cell_type": "markdown",
   "metadata": {},
   "source": [
    "#### Бутстраповский параметрический доверительный интервал"
   ]
  },
  {
   "cell_type": "code",
   "execution_count": 44,
   "metadata": {},
   "outputs": [
    {
     "name": "stdout",
     "output_type": "stream",
     "text": [
      "Доверительный интервал: (2.659065105749759, 3.457153041895431), длина: 0.7980879361456719\n"
     ]
    }
   ],
   "source": [
    "def func2(X, N):\n",
    "    return 1 + N / sum([np.log(x) for x in X])\n",
    "\n",
    "M = np.sort(np.array([func2([func1(x, theta) for x in np.random.sample(N)], N) for i in range(50000)]))\n",
    "\n",
    "lower_border3 = M[int(a / 2 * 50000)]\n",
    "upper_border3 = M[int((1 - a / 2) * 50000)]\n",
    "\n",
    "print(f\"Доверительный интервал: ({lower_border3}, {upper_border3}), длина: {upper_border3 - lower_border3}\")"
   ]
  },
  {
   "cell_type": "markdown",
   "metadata": {},
   "source": [
    "#### Бутстраповский непараметрический доверительный интервал"
   ]
  },
  {
   "cell_type": "code",
   "execution_count": 45,
   "metadata": {},
   "outputs": [
    {
     "name": "stdout",
     "output_type": "stream",
     "text": [
      "Доверительный интервал: (2.92, 3.71398285022294), длина: 0.7939828502229402\n"
     ]
    }
   ],
   "source": [
    "M = np.array([])\n",
    "\n",
    "for i in range(1000):\n",
    "    M = np.append(M, N / np.sum(np.log((np.random.choice(X, size = len(X))))) + 1 - theta_estimate)\n",
    "\n",
    "M = np.sort(M)\n",
    "\n",
    "lower_border4 = round(theta_estimate + M[74], 3)\n",
    "upper_border4 = theta_estimate + M[974]\n",
    "\n",
    "print(f\"Доверительный интервал: ({lower_border4}, {upper_border4}), длина: {upper_border4 - lower_border4}\")"
   ]
  },
  {
   "cell_type": "code",
   "execution_count": 46,
   "metadata": {},
   "outputs": [
    {
     "data": {
      "text/plain": [
       "<matplotlib.legend.Legend at 0x25fd7fbf4d0>"
      ]
     },
     "execution_count": 46,
     "metadata": {},
     "output_type": "execute_result"
    },
    {
     "data": {
      "image/png": "[encoded data removed]",
      "text/plain": [
       "<Figure size 640x480 with 1 Axes>"
      ]
     },
     "metadata": {},
     "output_type": "display_data"
    }
   ],
   "source": [
    "x1 = np.linspace(lower_border1, upper_border1, 100)\n",
    "y1 = [1] * 100\n",
    "\n",
    "x2 = np.linspace(lower_border2, upper_border2, 100)\n",
    "y2 = [2] * 100\n",
    "\n",
    "x3 = np.linspace(lower_border3, upper_border3, 100)\n",
    "y3 = [3] * 100\n",
    "\n",
    "x4 = np.linspace(lower_border4, upper_border4, 100)\n",
    "y4 = [4] * 100\n",
    "\n",
    "plt.plot(x1, y1)\n",
    "plt.plot(x2, y2)\n",
    "plt.plot(x3, y3)\n",
    "plt.plot(x4, y4)\n",
    "\n",
    "plt.legend([\"Для медианы\", \"Асимптотический\", \"Бутстрап параметрический\", \"Бутрстрап непараметрический\"])"
   ]
  }
 ],
 "metadata": {
  "kernelspec": {
   "display_name": "Python 3",
   "language": "python",
   "name": "python3"
  },
  "language_info": {
   "codemirror_mode": {
    "name": "ipython",
    "version": 3
   },
   "file_extension": ".py",
   "mimetype": "text/x-python",
   "name": "python",
   "nbconvert_exporter": "python",
   "pygments_lexer": "ipython3",
   "version": "3.13.0"
  }
 },
 "nbformat": 4,
 "nbformat_minor": 2
}
