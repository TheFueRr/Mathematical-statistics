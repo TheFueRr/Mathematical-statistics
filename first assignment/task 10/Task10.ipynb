{
 "cells": [
  {
   "cell_type": "code",
   "execution_count": 52,
   "metadata": {},
   "outputs": [],
   "source": [
    "import numpy as np\n",
    "from scipy.special import erf"
   ]
  },
  {
   "cell_type": "markdown",
   "metadata": {},
   "source": [
    "#### Справка\n",
    "\n",
    "$$\n",
    "\\tilde{\\Delta} = \\sqrt{N} * \\max_{x \\in \\mathbb{R}}{|\\tilde {F}(x) - F(x)|}\n",
    "$$"
   ]
  },
  {
   "cell_type": "markdown",
   "metadata": {},
   "source": [
    "$$\n",
    "K(x) = 1 + 2 * \\sum_{k=1}^{\\infty}(-1)^k \\cdot e ^ {-2k^2 x^2}\n",
    "$$\n",
    "\n",
    "$$\n",
    "p-value = P(\\Delta \\geq \\tilde{\\Delta} | H_0)  = 1 - K(\\tilde{\\Delta})\n",
    "$$"
   ]
  },
  {
   "cell_type": "markdown",
   "metadata": {},
   "source": [
    "### $\\alpha$ = 0,05"
   ]
  },
  {
   "cell_type": "markdown",
   "metadata": {},
   "source": [
    "## а) Проверить гипотезу о согласии данных с законом равномерного распределения с помощью критерия Колмогорова. Сравнить результаты."
   ]
  },
  {
   "cell_type": "markdown",
   "metadata": {},
   "source": [
    "### $H_0$ : равномерное распределение\n",
    "### $H_1: \\overline H_0 $"
   ]
  },
  {
   "cell_type": "code",
   "execution_count": 53,
   "metadata": {},
   "outputs": [
    {
     "name": "stdout",
     "output_type": "stream",
     "text": [
      "Δ = 1.4\n"
     ]
    }
   ],
   "source": [
    "n = 100\n",
    "arr = np.array([5, 8, 6, 12, 14, 18, 11, 6, 13, 7])\n",
    "numbers = np.array([1 for i in range(10)])\n",
    "\n",
    "emp_cdf = np.array([sum(arr[:i]) for i in range(len(arr)+1)]) / 100\n",
    "theo_cdf = np.array([sum(numbers[:i]) for i in range(len(numbers))]) / 10\n",
    "\n",
    "differences = np.maximum(\n",
    "    np.abs(theo_cdf - emp_cdf[:-1]),\n",
    "    np.abs(theo_cdf - emp_cdf[1:]) \n",
    ")\n",
    "\n",
    "D = round(np.max(np.sqrt(n) * differences), 5)\n",
    "\n",
    "print(f\"Δ = {D}\")"
   ]
  },
  {
   "cell_type": "code",
   "execution_count": 54,
   "metadata": {},
   "outputs": [
    {
     "name": "stdout",
     "output_type": "stream",
     "text": [
      "p-value = 0.03968187953811442\n"
     ]
    }
   ],
   "source": [
    "def kolmogorov_distribution(x: float, terms: int = 10000) -> float:\n",
    "    n = np.arange(1, terms)\n",
    "    series = 2 * (-1)**n * np.exp(-2 * (n**2) * x**2)\n",
    "    return 1 + np.sum(series)\n",
    "\n",
    "p_value = 1 - kolmogorov_distribution(D)\n",
    "print(f\"p-value = {p_value}\")"
   ]
  },
  {
   "cell_type": "markdown",
   "metadata": {},
   "source": [
    "p-value < $\\alpha$ "
   ]
  },
  {
   "cell_type": "markdown",
   "metadata": {},
   "source": [
    "=> отвергаем гипотезу $H_0$"
   ]
  },
  {
   "cell_type": "markdown",
   "metadata": {},
   "source": [
    "#### Вывод: По критерию $\\chi^2$ нет причин отвергать $H_0$, а по критерию Колмогорова мы отвергаем ее, из-за того что есть систематические отклонения от равномерного распределения"
   ]
  },
  {
   "cell_type": "markdown",
   "metadata": {},
   "source": [
    "## б) Проверить гипотезу о согласии данных с законом нормального распределения с помощью критерия Колмогорова. Сравнить результаты."
   ]
  },
  {
   "cell_type": "markdown",
   "metadata": {},
   "source": [
    "### $H_0$ : нормальное распределение\n",
    "### $H_1: \\overline H_0 $"
   ]
  },
  {
   "cell_type": "code",
   "execution_count": 56,
   "metadata": {},
   "outputs": [
    {
     "name": "stdout",
     "output_type": "stream",
     "text": [
      "p-value = 0.01506\n"
     ]
    }
   ],
   "source": [
    "def normal_cdf(x: np.ndarray, mean: float, sigma: float) -> np.ndarray:\n",
    "    return 0.5 * (1 + erf((x - mean) / (sigma * np.sqrt(2))))\n",
    "\n",
    "def calculate_bootstrap_deltas(\n",
    "    true_mean: float,\n",
    "    true_sigma: float,\n",
    "    num_iterations: int,\n",
    "    sample_size: int\n",
    ") -> np.ndarray:\n",
    "    deltas = np.empty(num_iterations)\n",
    "    \n",
    "    for i in range(num_iterations):\n",
    "        sample = np.random.normal(true_mean, true_sigma, sample_size)\n",
    "        sorted_sample = np.sort(sample)\n",
    "        \n",
    "        bootstrap_mean = np.mean(sorted_sample)\n",
    "        bootstrap_sigma = np.std(sorted_sample, ddof=1)\n",
    "        \n",
    "        empirical_cdf = np.linspace(0, 1, sample_size + 1)\n",
    "        \n",
    "        theory_probs = normal_cdf(sorted_sample, bootstrap_mean, bootstrap_sigma)\n",
    "        \n",
    "        deviations = np.maximum(\n",
    "            np.abs(theory_probs - empirical_cdf[:-1]),\n",
    "            np.abs(theory_probs - empirical_cdf[1:])\n",
    "        )\n",
    "        deltas[i] = np.sqrt(sample_size) * np.max(deviations)\n",
    "    \n",
    "    return deltas\n",
    "\n",
    "NUM_ITERATIONS = 50000\n",
    "SAMPLE_SIZE = 100\n",
    "arr = np.array([5, 8, 6, 12, 14, 18, 11, 6, 13, 7])\n",
    "\n",
    "x_values = np.arange(len(arr))\n",
    "weights = arr / arr.sum()\n",
    "mean = np.dot(x_values, weights)\n",
    "variance = np.dot((x_values - mean)**2, weights) * SAMPLE_SIZE / (SAMPLE_SIZE - 1)\n",
    "sigma = np.sqrt(variance)\n",
    "\n",
    "empirical_cdf = np.cumsum(arr) / arr.sum()\n",
    "empirical_cdf = np.insert(empirical_cdf, 0, 0)\n",
    "\n",
    "theory_probs = normal_cdf(np.arange(10), mean, sigma)\n",
    "d0 = np.sqrt(SAMPLE_SIZE) * np.max(\n",
    "    np.maximum(\n",
    "        np.abs(theory_probs - empirical_cdf[:-1]),\n",
    "        np.abs(theory_probs - empirical_cdf[1:])\n",
    "    )[:10]\n",
    ")\n",
    "\n",
    "bootstrap_deltas = calculate_bootstrap_deltas(mean, sigma, NUM_ITERATIONS, SAMPLE_SIZE)\n",
    "p_value = np.mean(bootstrap_deltas >= d0)\n",
    "\n",
    "print(f\"p-value = {p_value:.5f}\")"
   ]
  },
  {
   "cell_type": "markdown",
   "metadata": {},
   "source": [
    "#### p-value < $\\alpha$ "
   ]
  },
  {
   "cell_type": "markdown",
   "metadata": {},
   "source": [
    "=> отвергаем гипотезу $H_0$"
   ]
  },
  {
   "cell_type": "markdown",
   "metadata": {},
   "source": [
    "#### Вывод: Оба критерия отвергли $H_0$"
   ]
  }
 ],
 "metadata": {
  "kernelspec": {
   "display_name": "Python 3",
   "language": "python",
   "name": "python3"
  },
  "language_info": {
   "codemirror_mode": {
    "name": "ipython",
    "version": 3
   },
   "file_extension": ".py",
   "mimetype": "text/x-python",
   "name": "python",
   "nbconvert_exporter": "python",
   "pygments_lexer": "ipython3",
   "version": "3.13.0"
  }
 },
 "nbformat": 4,
 "nbformat_minor": 2
}
